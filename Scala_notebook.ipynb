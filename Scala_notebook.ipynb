{
 "cells": [
  {
   "cell_type": "code",
   "execution_count": 1,
   "metadata": {
    "collapsed": false
   },
   "outputs": [
    {
     "data": {
      "text/plain": [
       "\u001b[36mr1\u001b[0m: \u001b[32mList\u001b[0m[\u001b[32mInt\u001b[0m] = \u001b[33mList\u001b[0m(\u001b[32m3\u001b[0m, \u001b[32m2\u001b[0m, \u001b[32m1\u001b[0m)\n",
       "\u001b[36mr2\u001b[0m: \u001b[32mList\u001b[0m[\u001b[32mInt\u001b[0m] = \u001b[32m<lazy>\u001b[0m"
      ]
     },
     "metadata": {},
     "output_type": "display_data"
    }
   ],
   "source": [
    "var r1 = List(1,2,3).reverse\n",
    "lazy val r2 = r1.reverse.drop(1)"
   ]
  },
  {
   "cell_type": "markdown",
   "metadata": {},
   "source": [
    "evaluate lazy value:"
   ]
  },
  {
   "cell_type": "code",
   "execution_count": 9,
   "metadata": {
    "collapsed": false
   },
   "outputs": [
    {
     "name": "stdout",
     "output_type": "stream",
     "text": [
      "List(2, 3)"
     ]
    },
    {
     "data": {
      "text/plain": []
     },
     "metadata": {},
     "output_type": "display_data"
    }
   ],
   "source": [
    "print(r2)"
   ]
  },
  {
   "cell_type": "code",
   "execution_count": 10,
   "metadata": {
    "collapsed": false
   },
   "outputs": [
    {
     "ename": "",
     "evalue": "",
     "output_type": "error",
     "traceback": [
      "\u001b[31m<console>:1: lazy not allowed here. Only vals can be lazy",
      "lazy var ar2 = Array(2,4,6,8,9,99)",
      "     ^\u001b[0m"
     ]
    }
   ],
   "source": [
    "lazy var ar2 = Array(2,4,6,8,9,99)"
   ]
  },
  {
   "cell_type": "markdown",
   "metadata": {},
   "source": [
    "---"
   ]
  },
  {
   "cell_type": "code",
   "execution_count": 3,
   "metadata": {
    "collapsed": false,
    "scrolled": true
   },
   "outputs": [
    {
     "ename": "",
     "evalue": "",
     "output_type": "error",
     "traceback": [
      "Failure(End:1:26 ...\"1\")"
     ]
    }
   ],
   "source": [
    "List(1,2,3).reverse.drop 1"
   ]
  },
  {
   "cell_type": "raw",
   "metadata": {},
   "source": [
    "Unlike in regular Scala parentesis must be provided."
   ]
  },
  {
   "cell_type": "code",
   "execution_count": 8,
   "metadata": {
    "collapsed": false
   },
   "outputs": [
    {
     "data": {
      "text/plain": [
       "\u001b[36mres7\u001b[0m: \u001b[32mList\u001b[0m[\u001b[32mInt\u001b[0m] = \u001b[33mList\u001b[0m(\u001b[32m2\u001b[0m, \u001b[32m1\u001b[0m)"
      ]
     },
     "metadata": {},
     "output_type": "display_data"
    }
   ],
   "source": [
    "List(1,2,3).reverse.drop(1)"
   ]
  },
  {
   "cell_type": "markdown",
   "metadata": {},
   "source": [
    "---"
   ]
  },
  {
   "cell_type": "code",
   "execution_count": 4,
   "metadata": {
    "collapsed": false
   },
   "outputs": [
    {
     "name": "stdout",
     "output_type": "stream",
     "text": [
      "4"
     ]
    },
    {
     "data": {
      "text/plain": [
       "\u001b[36mx\u001b[0m: \u001b[32mArray\u001b[0m[\u001b[32mInt\u001b[0m] = \u001b[33mArray\u001b[0m(\u001b[32m2\u001b[0m, \u001b[32m4\u001b[0m, \u001b[32m6\u001b[0m, \u001b[32m8\u001b[0m, \u001b[32m9\u001b[0m)"
      ]
     },
     "metadata": {},
     "output_type": "display_data"
    }
   ],
   "source": [
    "var x = Array(2,4,6,8,9)\n",
    "\n",
    "print (x(1))\n"
   ]
  },
  {
   "cell_type": "code",
   "execution_count": 4,
   "metadata": {
    "collapsed": false
   },
   "outputs": [
    {
     "ename": "",
     "evalue": "",
     "output_type": "error",
     "traceback": [
      "\u001b[31mMain.scala:25: value * is not a member of Array[Int]",
      "x * x",
      "  ^\u001b[0m"
     ]
    }
   ],
   "source": [
    "x * x\n"
   ]
  },
  {
   "cell_type": "code",
   "execution_count": 4,
   "metadata": {
    "collapsed": false
   },
   "outputs": [
    {
     "ename": "",
     "evalue": "",
     "output_type": "error",
     "traceback": [
      "\u001b[31mMain.scala:25: No implicit view available from Int => Array[U].",
      "x.transpose",
      "  ^\u001b[0m"
     ]
    }
   ],
   "source": [
    "x.transpose\n"
   ]
  },
  {
   "cell_type": "markdown",
   "metadata": {
    "collapsed": true
   },
   "source": [
    "$$e^x=\\sum_{i=0}^\\infty \\frac{1}{i!}x^i$$"
   ]
  },
  {
   "cell_type": "markdown",
   "metadata": {},
   "source": [
    "ala ma asa $e^{i\\pi} + 1 = 0$ i na koniec $$e^x=\\sum_{i=0}^\\infty \\frac{1}{i!}x^i$$ to"
   ]
  },
  {
   "cell_type": "markdown",
   "metadata": {},
   "source": [
    "<video controls src=\"../images/animation.m4v\" />"
   ]
  },
  {
   "cell_type": "markdown",
   "metadata": {},
   "source": [
    "<img src=\"../images/python_logo.svg\" />"
   ]
  },
  {
   "cell_type": "markdown",
   "metadata": {},
   "source": [
    "| This | is   |\n",
    "|------|------|\n",
    "|   a  | table|\n"
   ]
  },
  {
   "cell_type": "markdown",
   "metadata": {},
   "source": [
    "---------------------------------------\n",
    "```python\n",
    "print \"Hello World\"\n",
    "```\n",
    "```javascript\n",
    "console.log(\"Hello World\")\n",
    "```\n"
   ]
  },
  {
   "cell_type": "markdown",
   "metadata": {},
   "source": [
    "A First Level Header\n",
    "====================\n",
    "\n",
    "A Second Level Header\n",
    "---------------------"
   ]
  },
  {
   "cell_type": "markdown",
   "metadata": {},
   "source": [
    "This is an [example link](http://example.com/ \"With a Title/Dymek\")\n",
    "***"
   ]
  },
  {
   "cell_type": "markdown",
   "metadata": {},
   "source": [
    "I get 10 times more traffic from [Google][1] than from\n",
    "[Yahoo][2] or [MSN][3].\n",
    "\n",
    "[1]: http://google.com/        \"Google\"\n",
    "[2]: http://search.yahoo.com/  \"Yahoo Search\"\n",
    "[3]: http://search.msn.com/    \"MSN Search\""
   ]
  },
  {
   "cell_type": "markdown",
   "metadata": {},
   "source": [
    "\\begin{align}\n",
    "\\dot{x} & = \\sigma(y-x) \\\\\n",
    "\\dot{y} & = \\rho x - y - xz \\\\\n",
    "\\dot{z} & = -\\beta z + xy\n",
    "\\end{align}"
   ]
  },
  {
   "cell_type": "markdown",
   "metadata": {
    "collapsed": true
   },
   "source": [
    "Unification of functions and objects => Scalability\n",
    "* function value is an object\n",
    "* function types: classes that can be inherited\n",
    "* object-oriented language in pure form: every value is an object and every operation is a method call\n",
    "\n",
    "Composing objects: traits\n",
    "* similar to interfaces in Java but can have a fields and method implementations\n",
    "* mixin composition: merges traits members to class members\n",
    "* looks a bit like multiple inheritance, but differs when it comes to the details\n",
    " * TODO??? Unlike a class, a trait can add some new functionality to an unspecified superclass\n",
    " * more “pluggable” than classes: avoids the classical “diamond inheritance” problems: the same class is inherited via several different paths\n",
    " \n",
    " \n",
    "Lambda function /no name/ is function literal lik 42 is integer literal\n",
    "\n",
    "\n",
    "Java interoperability: \n",
    "* str.toInt() instead of Integer.parseInt(str): implicit conversions when types would not normally match up, or when non-existing members are selected - implicit conversion that converts a Java String to an instance of the Scala class *StringOps*, which does define such a member toInt /The conversion will then be applied implicitly before performing the toInt operation/\n",
    "\n",
    "Consice:\n",
    "* semicolons are optional in Scala\n",
    "* type inference"
   ]
  },
  {
   "cell_type": "code",
   "execution_count": 3,
   "metadata": {
    "collapsed": false
   },
   "outputs": [
    {
     "data": {
      "text/plain": [
       "defined \u001b[32mclass \u001b[36mMyClass\u001b[0m\n",
       "\u001b[36mm\u001b[0m: \u001b[32m$user\u001b[0m.\u001b[32mMyClass\u001b[0m = cmd2$$user$MyClass@5d9a0633"
      ]
     },
     "metadata": {},
     "output_type": "display_data"
    }
   ],
   "source": [
    "class MyClass(index: Int, name: String)\n",
    "val m = new MyClass(3, \"Moja klasa\")"
   ]
  },
  {
   "cell_type": "code",
   "execution_count": 6,
   "metadata": {
    "collapsed": false
   },
   "outputs": [
    {
     "data": {
      "text/plain": [
       "\u001b[36mname\u001b[0m: \u001b[32mString\u001b[0m = \u001b[32m\"Rafal\"\u001b[0m\n",
       "\u001b[36mnameHasUpperCase\u001b[0m: \u001b[32mBoolean\u001b[0m = \u001b[32mtrue\u001b[0m\n",
       "\u001b[36mres5_2\u001b[0m: \u001b[32mAny\u001b[0m => \u001b[32mUnit\u001b[0m = <function1>"
      ]
     },
     "metadata": {},
     "output_type": "display_data"
    }
   ],
   "source": [
    "val name = \"Rafal\"\n",
    "val nameHasUpperCase = name.exists(_.isUpper)\n",
    "print _"
   ]
  },
  {
   "cell_type": "code",
   "execution_count": 0,
   "metadata": {
    "collapsed": false
   },
   "outputs": [
    {
     "ename": "",
     "evalue": "",
     "output_type": "error",
     "traceback": [
      "Failure(End:1:1 ...\":load MyMo\")"
     ]
    }
   ],
   "source": [
    ":load MyModule.scala"
   ]
  },
  {
   "cell_type": "code",
   "execution_count": 8,
   "metadata": {
    "collapsed": false
   },
   "outputs": [
    {
     "data": {
      "text/plain": [
       "defined \u001b[32mfunction \u001b[36mfactorial\u001b[0m"
      ]
     },
     "metadata": {},
     "output_type": "display_data"
    }
   ],
   "source": [
    "def factorial(n : Int): Int = {\n",
    "  def go(n: Int, acc: Int) : Int = {\n",
    "     if (n <= 0) acc // not n == 0\n",
    "     else go(n-1, n*acc)\n",
    "  }\n",
    "  go(n, 1)\n",
    "}\n",
    "\n",
    "\n",
    "assert( factorial(3) == 2*3 )\n",
    "assert( factorial(5) == factorial(3)*4*5 )"
   ]
  },
  {
   "cell_type": "markdown",
   "metadata": {},
   "source": [
    "Using annotation to verify tail recursion optimalization /writing explicit iteration is considered in as a Scala bad\n",
    "style/"
   ]
  },
  {
   "cell_type": "code",
   "execution_count": 9,
   "metadata": {
    "collapsed": false
   },
   "outputs": [
    {
     "ename": "",
     "evalue": "",
     "output_type": "error",
     "traceback": [
      "\u001b[31mMain.scala:27: could not optimize @tailrec annotated method go: it contains a recursive call not in tail position",
      "        else 1+go(n-1, n*acc)",
      "              ^\u001b[0m"
     ]
    }
   ],
   "source": [
    "def factorial(n : Int): Int = {\n",
    "    @annotation.tailrec\n",
    "    def go(n: Int, acc: Int) : Int = {\n",
    "        if (n <= 0) acc // not n == 0\n",
    "        else 1+go(n-1, n*acc)\n",
    "  }\n",
    "  go(n, 1)\n",
    "}\n"
   ]
  },
  {
   "cell_type": "code",
   "execution_count": 2,
   "metadata": {
    "collapsed": false
   },
   "outputs": [
    {
     "name": "stdout",
     "output_type": "stream",
     "text": [
      "\n",
      "(1,1)\n",
      "(1,1)(1,2)\n",
      "(1,1)(1,2)(2,3)\n",
      "(1,1)(1,2)(2,3)(3,5)(5,8)(8,13)(13,21)(21,34)(34,55)(55,89)(89,144)(144,233)(233,377)(377,610)(610,987)(987,1597)(1597,2584)(2584,4181)(4181,6765)(6765,10946)"
     ]
    },
    {
     "data": {
      "text/plain": [
       "defined \u001b[32mfunction \u001b[36mfib\u001b[0m\n",
       "defined \u001b[32mfunction \u001b[36mfibiter\u001b[0m"
      ]
     },
     "metadata": {},
     "output_type": "display_data"
    }
   ],
   "source": [
    "def fib(n: Int): Int = {\n",
    "    if (n<2) if (n==0) 0 else 1\n",
    "    else fib(n-1)+fib(n-2)\n",
    "}\n",
    "\n",
    "assert( fib(0) == 0 )\n",
    "assert( fib(1) == 1 )\n",
    "assert( fib(2) == 1 )\n",
    "assert( fib(3) == 2 )\n",
    "assert( fib(4) == 3 )\n",
    "assert( fib(5) == 5 )\n",
    "assert( fib(20) == 6765 )\n",
    "\n",
    "//@annotation.tailrec\n",
    "def fibiter(n : Int) : Int = {\n",
    "    var x = (0, 1)\n",
    "    for( i <- 0 to n-1) { // inclusive n-1\n",
    "        // a, b = b, a + b # assigment is well defined, old values persist on the RHS\n",
    "        x = (x._2, x._1 + x._2)\n",
    "        print(x)\n",
    "    }\n",
    "    x._1\n",
    "}\n",
    "assert( fibiter(0) == 0 ) ; print(\"\\n\")\n",
    "assert( fibiter(1) == 1 ); print(\"\\n\")\n",
    "assert( fibiter(2) == 1 ); print(\"\\n\")\n",
    "assert( fibiter(3) == 2 ); print(\"\\n\")\n",
    "assert( fibiter(20) == 6765 )\n",
    "\n",
    "\n"
   ]
  },
  {
   "cell_type": "markdown",
   "metadata": {},
   "source": [
    "Syntax for constants initialized in group.\n",
    "There is a difference. The approach of using tuples is actually invoking an extractor (the unapply method), which would incur a cost at runtime. The second approach is certainly faster."
   ]
  },
  {
   "cell_type": "code",
   "execution_count": 3,
   "metadata": {
    "collapsed": false
   },
   "outputs": [
    {
     "name": "stdout",
     "output_type": "stream",
     "text": [
      "(1,1)(1,2)(2,3)(3,5)(5,8)(1,1)(1,2)(2,3)(3,5)(5,8)(8,13)(13,21)(\n",
      ",5, and for 7 ,13,\n",
      ")(1,1)(1,2)(2,3)(3,5)(5,8)(1,1)(1,2)(2,3)(3,5)(5,8)(8,13)(13,21)(1,1)(1,2)(2,3)(3,5)(5,8)(8,13)(13,21)(21,34)(34,55)(55,89)(89,144)(144,233)(233,377)(377,610)(610,987)"
     ]
    },
    {
     "data": {
      "text/plain": [
       "\u001b[36mf5\u001b[0m: \u001b[32mInt\u001b[0m = \u001b[32m5\u001b[0m\n",
       "\u001b[36mf7\u001b[0m: \u001b[32mInt\u001b[0m = \u001b[32m13\u001b[0m\n",
       "\u001b[36mf5_faster\u001b[0m: \u001b[32mInt\u001b[0m = \u001b[32m5\u001b[0m\n",
       "\u001b[36mf7_faster\u001b[0m: \u001b[32mInt\u001b[0m = \u001b[32m13\u001b[0m\n",
       "\u001b[36mres2_4\u001b[0m: \u001b[32mInt\u001b[0m = \u001b[32m610\u001b[0m"
      ]
     },
     "metadata": {},
     "output_type": "display_data"
    }
   ],
   "source": [
    "val (f5, f7) = (fibiter(5), fibiter(7))\n",
    "print(\"\\n\", f5, \" and for 7 \", f7, \"\\n\") // TODO why the line starts with colon ???\n",
    "val f5_faster = fibiter(5)\n",
    "val f7_faster = fibiter(7)\n",
    "fibiter(15)"
   ]
  }
 ],
 "metadata": {
  "anaconda-cloud": {},
  "kernelspec": {
   "display_name": "Scala 2.11",
   "language": "scala211",
   "name": "scala211"
  },
  "language_info": {
   "codemirror_mode": "text/x-scala",
   "file_extension": ".scala",
   "mimetype": "text/x-scala",
   "name": "scala211",
   "pygments_lexer": "scala",
   "version": "2.11.8"
  }
 },
 "nbformat": 4,
 "nbformat_minor": 1
}
